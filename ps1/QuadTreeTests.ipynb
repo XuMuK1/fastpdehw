{
 "cells": [
  {
   "cell_type": "code",
   "execution_count": 16,
   "metadata": {},
   "outputs": [],
   "source": [
    "import numpy as np # jsut  in case"
   ]
  },
  {
   "cell_type": "code",
   "execution_count": 73,
   "metadata": {},
   "outputs": [],
   "source": [
    "#class definition\n",
    "\n",
    "class TreeNode:\n",
    "    \n",
    "    def __init__(self,mass=1,coord=np.zeros([2]),level=0):\n",
    "        self.mass=mass\n",
    "        self.coord=coord\n",
    "        self.children=[]\n",
    "        self.level=level\n",
    "        \n",
    "        \n",
    "    def addChild(self,child):\n",
    "        self.children.append(child)\n",
    "        \n",
    "    def recomputeValues(self):\n",
    "        if(len(self.children)>0):\n",
    "            [self.children[k].recomputeValues for k in np.arange(len(self.children))]#faster\n",
    "            self.mass = 0\n",
    "            self.coord = -1\n",
    "            for child in self.children:\n",
    "                    try:\n",
    "                        if self.coord.shape:#if it is not -1\n",
    "                            self.mass = self.mass + child.mass #really????\n",
    "                            self.coord = self.coord+ child.coord*child.mass\n",
    "                    except:\n",
    "                        self.mass = child.mass\n",
    "                        self.coord = child.coord * child.mass\n",
    "                        \n",
    "            \n",
    "            self.coord = self.coord / self.mass\n",
    "        else:\n",
    "            return self.coord, self.mass\n",
    "        "
   ]
  },
  {
   "cell_type": "code",
   "execution_count": 74,
   "metadata": {},
   "outputs": [],
   "source": [
    "def DeepTraverse(root):\n",
    "    \n",
    "    if(len(root.children)==0):\n",
    "        return\n",
    "    \n",
    "    for c in root.children:\n",
    "        print(c.level,c.mass,c.coord)\n",
    "        DeepTraverse(c)\n",
    "        "
   ]
  },
  {
   "cell_type": "code",
   "execution_count": 75,
   "metadata": {},
   "outputs": [
    {
     "name": "stdout",
     "output_type": "stream",
     "text": [
      "1 1 [0, 0]\n",
      "2 1.1 [1, 1]\n",
      "2 1.2 [1, 2]\n",
      "1 2 [0, 0]\n",
      "2 2.1 [0, 0]\n",
      "3 2.11 [2, 11]\n",
      "3 2.12 [2, 12]\n",
      "3 2.13 [2, 13]\n"
     ]
    }
   ],
   "source": [
    "# Try more sophisticated structure\n",
    "\n",
    "# root ----- p1 ---- p11, p12\n",
    "#      ----- p2 ---- p21 --- p211,p212,p213\n",
    "\n",
    "treeRoot = TreeNode()\n",
    "\n",
    "treeRoot.addChild(TreeNode(mass=1,coord=[0,0],level=1)) #p1\n",
    "treeRoot.addChild(TreeNode(mass=2,coord=[0,0],level=1)) #p2\n",
    "\n",
    "treeRoot.children[0].addChild(TreeNode(mass=1.1,coord=[1,1],level=2))\n",
    "treeRoot.children[0].addChild(TreeNode(mass=1.2,coord=[1,2],level=2))\n",
    "\n",
    "treeRoot.children[1].addChild(TreeNode(mass=2.1,coord=[0,0],level=2))\n",
    "treeRoot.children[1].children[0].addChild(TreeNode(mass=2.11,coord=[2,11],level=3))\n",
    "treeRoot.children[1].children[0].addChild(TreeNode(mass=2.12,coord=[2,12],level=3))\n",
    "treeRoot.children[1].children[0].addChild(TreeNode(mass=2.13,coord=[2,13],level=3))\n",
    "\n",
    "DeepTraverse(treeRoot)"
   ]
  },
  {
   "cell_type": "code",
   "execution_count": 76,
   "metadata": {},
   "outputs": [],
   "source": [
    "# Tree Construction\n",
    "\n",
    "def AssignParticlesToClusters(locs,seps):\n",
    "    #locs: d X N locations\n",
    "    #seps: N separators\n",
    "    clIds = np.zeros([locs.shape[1]])\n",
    "    for locId in np.arange(locs.shape[1]):\n",
    "        ind=(locs[:,locId]-seps >=0).astype('int32')\n",
    "        ind=str(ind.tolist())[1:-1].replace(' ','')\n",
    "        ind=ind.replace(',','')\n",
    "        clIds[locId]=int( ind, base=2)\n",
    "        \n",
    "    return clIds\n",
    "    \n",
    "def ConstructTree(xs,ms,root,level):\n",
    "    #xs is array d X N, N is number of particles, d is dimension\n",
    "    \n",
    "    \n",
    "    if(len(xs.shape)==1 or xs.shape[1]==1):\n",
    "        #1 particle, leave it\n",
    "        root.mass = ms\n",
    "        root.coord = xs\n",
    "        root.level = level\n",
    "        \n",
    "        return root\n",
    "    \n",
    "    #Otherwise go recursively\n",
    "    \n",
    "    xMin = np.amin(xs,axis=1)\n",
    "    xMax = np.amax(xs,axis=1)\n",
    "    separators = (xMin + xMax)/2 # QuadTree\n",
    "    clusters = AssignParticlesToClusters(xs,separators)\n",
    "    \n",
    "    clIds = np.unique(clusters)\n",
    "    print('AA')\n",
    "    for clId in clIds:\n",
    "        clKeys = (clusters==clId)\n",
    "        child = TreeNode(level=level+1)\n",
    "        child=ConstructTree(xs[:,clKeys],ms[clKeys],child,level+1)\n",
    "        child.recomputeValues()\n",
    "        root.addChild(child)\n",
    "    \n",
    "    return root\n",
    "    \n"
   ]
  },
  {
   "cell_type": "code",
   "execution_count": 77,
   "metadata": {},
   "outputs": [
    {
     "name": "stdout",
     "output_type": "stream",
     "text": [
      "AA\n",
      "AA\n",
      "AA\n"
     ]
    }
   ],
   "source": [
    "xs = np.array([[0,1,0,1,1.2,1.25],[0,0.75,1,1,1,0.9]])\n",
    "ms= np.array([1,2,3,4,5,6])\n",
    "\n",
    "treeRoot = TreeNode()\n",
    "treeRoot=ConstructTree(xs,ms,treeRoot,level=0)"
   ]
  },
  {
   "cell_type": "code",
   "execution_count": 79,
   "metadata": {},
   "outputs": [
    {
     "name": "stdout",
     "output_type": "stream",
     "text": [
      "1 [1] [[0.]\n",
      " [0.]]\n",
      "1 [3] [[0.]\n",
      " [1.]]\n",
      "1 [17] [[1.14705882]\n",
      " [0.93529412]]\n",
      "2 [2] [[1.  ]\n",
      " [0.75]]\n",
      "2 [4] [[1.]\n",
      " [1.]]\n",
      "2 [11] [[1.22727273]\n",
      " [0.94545455]]\n",
      "3 [5] [[1.2]\n",
      " [1. ]]\n",
      "3 [6] [[1.25]\n",
      " [0.9 ]]\n"
     ]
    }
   ],
   "source": [
    "DeepTraverse(treeRoot)"
   ]
  },
  {
   "cell_type": "code",
   "execution_count": 80,
   "metadata": {},
   "outputs": [],
   "source": [
    "# ALL IS WORKING!!!!\n",
    "import quadtrees as qtrees"
   ]
  },
  {
   "cell_type": "code",
   "execution_count": 84,
   "metadata": {},
   "outputs": [
    {
     "name": "stdout",
     "output_type": "stream",
     "text": [
      "AA\n",
      "AA\n",
      "AA\n"
     ]
    }
   ],
   "source": [
    "xs = np.array([[0,1,0,1,1.2,1.25],[0,0.75,1,1,1,0.9]])\n",
    "ms= np.array([1,2,3,4,5,6])\n",
    "\n",
    "treeRoot = qtrees.TreeNode()#root\n",
    "treeRoot=qtrees.ConstructTree(xs,ms,treeRoot,level=0)"
   ]
  },
  {
   "cell_type": "code",
   "execution_count": 85,
   "metadata": {},
   "outputs": [
    {
     "name": "stdout",
     "output_type": "stream",
     "text": [
      "1 [1] [[0.]\n",
      " [0.]]\n",
      "1 [3] [[0.]\n",
      " [1.]]\n",
      "1 [17] [[1.14705882]\n",
      " [0.93529412]]\n",
      "2 [2] [[1.  ]\n",
      " [0.75]]\n",
      "2 [4] [[1.]\n",
      " [1.]]\n",
      "2 [11] [[1.22727273]\n",
      " [0.94545455]]\n",
      "3 [5] [[1.2]\n",
      " [1. ]]\n",
      "3 [6] [[1.25]\n",
      " [0.9 ]]\n"
     ]
    }
   ],
   "source": [
    "DeepTraverse(treeRoot)"
   ]
  },
  {
   "cell_type": "code",
   "execution_count": 91,
   "metadata": {},
   "outputs": [
    {
     "data": {
      "text/plain": [
       "1"
      ]
     },
     "execution_count": 91,
     "metadata": {},
     "output_type": "execute_result"
    }
   ],
   "source": [
    "treeRoot.recomputeValues\n"
   ]
  },
  {
   "cell_type": "code",
   "execution_count": null,
   "metadata": {},
   "outputs": [],
   "source": []
  }
 ],
 "metadata": {
  "kernelspec": {
   "display_name": "Python 3",
   "language": "python",
   "name": "python3"
  },
  "language_info": {
   "codemirror_mode": {
    "name": "ipython",
    "version": 3
   },
   "file_extension": ".py",
   "mimetype": "text/x-python",
   "name": "python",
   "nbconvert_exporter": "python",
   "pygments_lexer": "ipython3",
   "version": "3.5.4"
  }
 },
 "nbformat": 4,
 "nbformat_minor": 2
}
