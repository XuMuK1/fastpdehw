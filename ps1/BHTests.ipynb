{
 "cells": [
  {
   "cell_type": "code",
   "execution_count": 2,
   "metadata": {},
   "outputs": [],
   "source": [
    "import numpy as np\n",
    "import quadtrees as qtrees"
   ]
  },
  {
   "cell_type": "code",
   "execution_count": 37,
   "metadata": {},
   "outputs": [],
   "source": [
    "#BARNES HUT\n",
    "#idea is simple: given particle system with interations,\n",
    "#sum up the interactions on one particular particle\n",
    "\n",
    "def SumTraverse(root,loc,m,interFun,farParameter=2):\n",
    "    #root is QTree root\n",
    "    #loc is location of particle\n",
    "    #m is its mass\n",
    "    #interFun is interactionFunction(m,m0,x,x0) between two particles\n",
    "    #farParameter=2 means to approximate if dist/boxsize > 2\n",
    "    #find all interactions\n",
    "    \n",
    "    if(len(root.children)>0):\n",
    "        inter=0\n",
    "        for child in root.children:\n",
    "            \n",
    "            if( np.linalg.norm(child.coord-loc,2)/child.boxsize >farParameter ):\n",
    "                #if it can be approximated,then\n",
    "                print(loc.shape,child.coord.shape)\n",
    "                \n",
    "                inter=inter+interFun(m,child.mass,loc,child.coord)\n",
    "                print(inter)\n",
    "            else:\n",
    "                #if cannot be approximated\n",
    "                inter=inter+SumTraverse(child,loc,m,interFun,farParameter)\n",
    "                \n",
    "        return inter\n",
    "    else:\n",
    "        return interFun(m,root.mass,loc,root.coord)\n",
    "        \n",
    "        \n",
    "def BHSummation(xs,ms,interFun,farParameter=2):\n",
    "    # farParameter = 2  if distance is 2 times larger than box size, then approximate\n",
    "\n",
    "    treeRoot = qtrees.TreeNode()\n",
    "    treeRoot = qtrees.ConstructTree(xs,ms,treeRoot,level=0)\n",
    "    \n",
    "    inters = np.zeros([xs.shape[1]])\n",
    "    for i in np.arange(xs.shape[1]):\n",
    "        inters[i] = SumTraverse(treeRoot,xs[:,i],ms[i],interFun,farParameter)\n",
    "    return inters"
   ]
  },
  {
   "cell_type": "code",
   "execution_count": 38,
   "metadata": {},
   "outputs": [
    {
     "name": "stdout",
     "output_type": "stream",
     "text": [
      "(2,)\n"
     ]
    }
   ],
   "source": [
    "def GravInteraction(m0,m1,x0,x1):\n",
    "    return m0*m1/np.linalg.norm(x1-x0,2,axis=0)\n",
    "\n",
    "GravInteraction(1,2,np.array([1,2]),np.array([2,2]))"
   ]
  },
  {
   "cell_type": "code",
   "execution_count": 39,
   "metadata": {},
   "outputs": [],
   "source": [
    "xs = np.array([[1,1.5,-1,-0.8],[0.9,-0.5,-0.3,0.7]])*100\n",
    "ms= np.array([1,2,1,2])\n",
    "\n",
    "treeRoot = qtrees.TreeNode()#root\n",
    "treeRoot=qtrees.ConstructTree(xs,ms,treeRoot,level=0)"
   ]
  },
  {
   "cell_type": "code",
   "execution_count": 34,
   "metadata": {},
   "outputs": [
    {
     "name": "stdout",
     "output_type": "stream",
     "text": [
      "(2,) (2, 1)\n",
      "[0.00419222 0.00444994]\n"
     ]
    },
    {
     "ename": "ValueError",
     "evalue": "setting an array element with a sequence.",
     "output_type": "error",
     "traceback": [
      "\u001b[1;31m---------------------------------------------------------------------------\u001b[0m",
      "\u001b[1;31mValueError\u001b[0m                                Traceback (most recent call last)",
      "\u001b[1;32m<ipython-input-34-eddc2ffcf41e>\u001b[0m in \u001b[0;36m<module>\u001b[1;34m()\u001b[0m\n\u001b[1;32m----> 1\u001b[1;33m \u001b[0mBHSummation\u001b[0m\u001b[1;33m(\u001b[0m\u001b[0mxs\u001b[0m\u001b[1;33m,\u001b[0m\u001b[0mms\u001b[0m\u001b[1;33m,\u001b[0m\u001b[0mGravInteraction\u001b[0m\u001b[1;33m,\u001b[0m\u001b[0mfarParameter\u001b[0m\u001b[1;33m=\u001b[0m\u001b[1;36m2\u001b[0m\u001b[1;33m)\u001b[0m\u001b[1;33m\u001b[0m\u001b[0m\n\u001b[0m",
      "\u001b[1;32m<ipython-input-31-806fee48c14f>\u001b[0m in \u001b[0;36mBHSummation\u001b[1;34m(xs, ms, interFun, farParameter)\u001b[0m\n\u001b[0;32m     38\u001b[0m     \u001b[0minters\u001b[0m \u001b[1;33m=\u001b[0m \u001b[0mnp\u001b[0m\u001b[1;33m.\u001b[0m\u001b[0mzeros\u001b[0m\u001b[1;33m(\u001b[0m\u001b[1;33m[\u001b[0m\u001b[0mxs\u001b[0m\u001b[1;33m.\u001b[0m\u001b[0mshape\u001b[0m\u001b[1;33m[\u001b[0m\u001b[1;36m1\u001b[0m\u001b[1;33m]\u001b[0m\u001b[1;33m]\u001b[0m\u001b[1;33m)\u001b[0m\u001b[1;33m\u001b[0m\u001b[0m\n\u001b[0;32m     39\u001b[0m     \u001b[1;32mfor\u001b[0m \u001b[0mi\u001b[0m \u001b[1;32min\u001b[0m \u001b[0mnp\u001b[0m\u001b[1;33m.\u001b[0m\u001b[0marange\u001b[0m\u001b[1;33m(\u001b[0m\u001b[0mxs\u001b[0m\u001b[1;33m.\u001b[0m\u001b[0mshape\u001b[0m\u001b[1;33m[\u001b[0m\u001b[1;36m1\u001b[0m\u001b[1;33m]\u001b[0m\u001b[1;33m)\u001b[0m\u001b[1;33m:\u001b[0m\u001b[1;33m\u001b[0m\u001b[0m\n\u001b[1;32m---> 40\u001b[1;33m         \u001b[0minters\u001b[0m\u001b[1;33m[\u001b[0m\u001b[0mi\u001b[0m\u001b[1;33m]\u001b[0m \u001b[1;33m=\u001b[0m \u001b[0mSumTraverse\u001b[0m\u001b[1;33m(\u001b[0m\u001b[0mtreeRoot\u001b[0m\u001b[1;33m,\u001b[0m\u001b[0mnp\u001b[0m\u001b[1;33m.\u001b[0m\u001b[0msqueeze\u001b[0m\u001b[1;33m(\u001b[0m\u001b[0mxs\u001b[0m\u001b[1;33m[\u001b[0m\u001b[1;33m:\u001b[0m\u001b[1;33m,\u001b[0m\u001b[0mi\u001b[0m\u001b[1;33m]\u001b[0m\u001b[1;33m)\u001b[0m\u001b[1;33m,\u001b[0m\u001b[0mms\u001b[0m\u001b[1;33m[\u001b[0m\u001b[0mi\u001b[0m\u001b[1;33m]\u001b[0m\u001b[1;33m,\u001b[0m\u001b[0minterFun\u001b[0m\u001b[1;33m,\u001b[0m\u001b[0mfarParameter\u001b[0m\u001b[1;33m)\u001b[0m\u001b[1;33m\u001b[0m\u001b[0m\n\u001b[0m\u001b[0;32m     41\u001b[0m     \u001b[1;32mreturn\u001b[0m \u001b[0minters\u001b[0m\u001b[1;33m\u001b[0m\u001b[0m\n",
      "\u001b[1;31mValueError\u001b[0m: setting an array element with a sequence."
     ]
    }
   ],
   "source": [
    "BHSummation(xs,ms,GravInteraction,farParameter=2)"
   ]
  },
  {
   "cell_type": "code",
   "execution_count": null,
   "metadata": {},
   "outputs": [],
   "source": [
    "GravInteraction(ms[:,np.newaxis],ms[np.newaxis,:],\\\n",
    "                np.kron(x0,np.ones([1,4])),np.kron(np.ones([1,4]),x1)) @ np.ones([4])"
   ]
  }
 ],
 "metadata": {
  "kernelspec": {
   "display_name": "Python 3",
   "language": "python",
   "name": "python3"
  }
 },
 "nbformat": 4,
 "nbformat_minor": 2
}
