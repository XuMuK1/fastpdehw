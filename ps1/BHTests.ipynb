{
 "cells": [
  {
   "cell_type": "code",
   "execution_count": 1,
   "metadata": {},
   "outputs": [],
   "source": [
    "import numpy as np\n",
    "import quadtrees as qtrees\n",
    "import simplebh as sbh"
   ]
  },
  {
   "cell_type": "code",
   "execution_count": 6,
   "metadata": {},
   "outputs": [],
   "source": [
    "#BARNES HUT\n",
    "#idea is simple: given particle system with interations,\n",
    "#sum up the interactions on one particular particle\n",
    "\n",
    "def SumTraverse(root,loc,m,interFun,farParameter=2):\n",
    "    #root is QTree root\n",
    "    #loc is location of particle\n",
    "    #m is its mass\n",
    "    #interFun is interactionFunction(m,m0,x,x0) between two particles\n",
    "    #farParameter=2 means to approximate if dist/boxsize > 2\n",
    "    #find all interactions\n",
    "    \n",
    "    if(len(root.children)>0):\n",
    "        inter=0\n",
    "        for child in root.children:\n",
    "            \n",
    "            if( np.linalg.norm(child.coord-loc,2)/child.boxsize >farParameter ):\n",
    "                #if it can be approximated,then\n",
    "                print('Approximate!!')\n",
    "                inter=inter+interFun(m,child.mass,loc,child.coord)\n",
    "            else:\n",
    "                #if cannot be approximated\n",
    "                inter=inter+SumTraverse(child,loc,m,interFun,farParameter)\n",
    "                \n",
    "        return inter\n",
    "    else:\n",
    "        if(np.linalg.norm(loc-root.coord,2)>1e-10):#if this is not the same particle\n",
    "            return interFun(m,root.mass,loc,root.coord)\n",
    "        else:\n",
    "            return 0\n",
    "        \n",
    "        \n",
    "def BHSummation(xs,ms,interFun,farParameter=2):\n",
    "    # farParameter = 2  if distance is 2 times larger than box size, then approximate\n",
    "\n",
    "    treeRoot = qtrees.TreeNode()\n",
    "    treeRoot = qtrees.ConstructTree(xs,ms,treeRoot,level=0)\n",
    "    \n",
    "    inters = np.zeros([xs.shape[1]])\n",
    "    for i in np.arange(xs.shape[1]):\n",
    "        inters[i] = SumTraverse(treeRoot,xs[:,i],ms[i],interFun,farParameter)\n",
    "    return inters"
   ]
  },
  {
   "cell_type": "code",
   "execution_count": 4,
   "metadata": {},
   "outputs": [],
   "source": [
    "def GravInteraction(m0,m1,x0,x1):\n",
    "    try:\n",
    "        #kronecker shit\n",
    "        x0k=np.kron(np.ones([1,x1.shape[1]]),x0)\n",
    "        x1k=np.kron(x1,np.ones([1,x0.shape[1]]))\n",
    "        res=m0*m1/np.reshape( np.linalg.norm(x1k-x0k,ord=2,axis=0), (x0.shape[1],x1.shape[1]))\n",
    "        return res\n",
    "    except:\n",
    "        return m0*m1/np.linalg.norm(x1-x0,2,axis=0)\n",
    "\n",
    "#GravInteraction(1,2,np.array([1,2]),np.array([2,2]))"
   ]
  },
  {
   "cell_type": "code",
   "execution_count": 2,
   "metadata": {},
   "outputs": [
    {
     "name": "stdout",
     "output_type": "stream",
     "text": [
      "construct root.coord= [-100.  -30.]\n",
      "construct root.coord= [-80.  70.]\n",
      "construct root.coord= [1500. -500.]\n",
      "construct root.coord= [1000.  900.]\n"
     ]
    }
   ],
   "source": [
    "xs = np.array([[10,15,-1,-0.8],[9,-5,-0.3,0.7]])*100\n",
    "ms= np.array([1,2,1,2])\n",
    "\n",
    "treeRoot = qtrees.TreeNode()#root\n",
    "treeRoot=qtrees.ConstructTree(xs,ms,treeRoot,level=0)"
   ]
  },
  {
   "cell_type": "code",
   "execution_count": 7,
   "metadata": {},
   "outputs": [
    {
     "name": "stdout",
     "output_type": "stream",
     "text": [
      "construct root.coord= [-100.  -30.]\n",
      "construct root.coord= [-80.  70.]\n",
      "construct root.coord= [1500. -500.]\n",
      "construct root.coord= [1000.  900.]\n",
      "Approximate!!\n",
      "Approximate!!\n",
      "Approximate!!\n",
      "Approximate!!\n"
     ]
    }
   ],
   "source": [
    "bhSum=BHSummation(xs,ms,GravInteraction,farParameter=2)"
   ]
  },
  {
   "cell_type": "code",
   "execution_count": 8,
   "metadata": {},
   "outputs": [
    {
     "name": "stdout",
     "output_type": "stream",
     "text": [
      "[[0.         0.00134535 0.00069423 0.00146833]\n",
      " [0.00134535 0.         0.00119933 0.00238142]\n",
      " [0.00069423 0.00119933 0.         0.01961161]\n",
      " [0.00146833 0.00238142 0.01961161 0.        ]]\n"
     ]
    },
    {
     "name": "stderr",
     "output_type": "stream",
     "text": [
      "d:\\programs\\anaconda3\\envs\\py35\\lib\\site-packages\\ipykernel_launcher.py:6: RuntimeWarning: divide by zero encountered in true_divide\n",
      "  \n"
     ]
    }
   ],
   "source": [
    "F= GravInteraction(ms[:,np.newaxis],ms[np.newaxis,:], xs, xs)\n",
    "F[np.diag(np.ones([4])).astype('bool')]=0\n",
    "print(F)\n",
    "justSum=F @ np.ones([4])"
   ]
  },
  {
   "cell_type": "code",
   "execution_count": 9,
   "metadata": {},
   "outputs": [
    {
     "data": {
      "text/plain": [
       "0.0"
      ]
     },
     "execution_count": 9,
     "metadata": {},
     "output_type": "execute_result"
    }
   ],
   "source": [
    "np.linalg.norm(bhSum-justSum,2)"
   ]
  },
  {
   "cell_type": "code",
   "execution_count": 11,
   "metadata": {},
   "outputs": [
    {
     "name": "stdout",
     "output_type": "stream",
     "text": [
      "construct root.coord= [-100.  -30.]\n",
      "construct root.coord= [-80.  70.]\n",
      "construct root.coord= [1500. -500.]\n",
      "construct root.coord= [1000.  900.]\n"
     ]
    },
    {
     "data": {
      "text/plain": [
       "array([0., 0., 0., 0.])"
      ]
     },
     "execution_count": 11,
     "metadata": {},
     "output_type": "execute_result"
    }
   ],
   "source": [
    "sbh.BHSummation(xs,ms,GravInteraction,farParameter=2)-justSum # WORKS!!!"
   ]
  },
  {
   "cell_type": "markdown",
   "metadata": {},
   "source": [
    "## Complexity Study of Simple BH\n",
    "\n",
    "For each $N$ generate $N$ particles in 2D from some gaussian mixture, perform several tests, check errors and the stuff."
   ]
  },
  {
   "cell_type": "code",
   "execution_count": 2,
   "metadata": {},
   "outputs": [],
   "source": [
    "import simplebh as sbh\n",
    "import numpy as np\n",
    "import quadtrees as qtrees\n",
    "import sklearn.datasets.samples_generator as skdat\n",
    "import matplotlib.pyplot as plt\n",
    "%matplotlib inline\n",
    "# to not run previous sections\n",
    "\n",
    "import mybootstrap as boots\n",
    "import time as pytime\n",
    "import tqdm\n",
    "\n",
    "#JUPYTER NOTEBOOK THEMES\\n\",\n",
    "# delete this if native theme is ok\\n\",\n",
    "from jupyterthemes import jtplot\n",
    "# choose which theme to inherit plotting style from\\n\",\n",
    "# onedork | grade3 | oceans16 | chesterish | monokai | solarizedl | solarizedd\\n\",\n",
    "jtplot.style(theme='oceans16')\n",
    "# set \\\"context\\\" (paper, notebook, talk, poster)\\n\",\n",
    "# scale font-size of ticklabels, legend, etc.\\n\",\n",
    "# remove spines from x and y axes and make grid dashed\\n\",\n",
    "jtplot.style(context='talk', fscale=1.4, spines=True, gridlines='--')\n",
    "\n",
    "def GravInteraction(m0,m1,x0,x1):\n",
    "    try:\n",
    "        #kronecker shit\n",
    "        x0k=np.kron(np.ones([1,x1.shape[1]]),x0)\n",
    "        x1k=np.kron(x1,np.ones([1,x0.shape[1]]))\n",
    "        res=m0*m1/np.reshape( np.linalg.norm(x1k-x0k,ord=2,axis=0), (x0.shape[1],x1.shape[1]))\n",
    "        return res\n",
    "    except:\n",
    "        return m0*m1/np.linalg.norm(x1-x0,2,axis=0)"
   ]
  },
  {
   "cell_type": "code",
   "execution_count": 3,
   "metadata": {},
   "outputs": [
    {
     "name": "stderr",
     "output_type": "stream",
     "text": [
      "  0%|                                                                                           | 0/10 [00:00<?, ?it/s]c:\\programs\\anaconda3\\envs\\py35\\lib\\site-packages\\ipykernel_launcher.py:29: RuntimeWarning: divide by zero encountered in true_divide\n",
      "100%|██████████████████████████████████████████████████████████████████████████████████| 10/10 [01:00<00:00,  6.03s/it]\n"
     ]
    }
   ],
   "source": [
    "N0=10\n",
    "N1=100\n",
    "Ns = np.arange(N0,N1+10,10)\n",
    "\n",
    "NExp=50 # enough?\n",
    "\n",
    "timesBH=np.zeros([NExp,Ns.shape[0]])\n",
    "timesDirect=np.zeros([NExp,Ns.shape[0]])\n",
    "\n",
    "def GenerateInstance(N,maxClusters=5,minMass=2,maxMass=20):\n",
    "    #Generates N particles in plane\n",
    "    #first sets up a number of clusters\n",
    "    #then generates centers\n",
    "    #finally, generates something similar to GaussianMixture\n",
    "    \n",
    "    clustNumber = np.random.randint(1,maxClusters+1)\n",
    "    centers = np.random.randn(clustNumber,2)*1000\n",
    "    # Generate sample data\n",
    "    X, _ = skdat.make_blobs(n_samples=N, centers=centers, cluster_std=50)\n",
    "    X=X.T\n",
    "    masses=np.random.uniform(minMass,maxMass,size=N)\n",
    "    return X,masses\n",
    "\n",
    "    \n",
    "for i in tqdm.tqdm(np.arange(Ns.shape[0])):\n",
    "    for expId in np.arange(NExp):\n",
    "        xs,ms = GenerateInstance(Ns[i])\n",
    "        \n",
    "        #BH summation\n",
    "        time0=pytime.time()\n",
    "        bhSum = sbh.BHSummation(xs,ms,GravInteraction,farParameter=3)    \n",
    "        timesBH[expId,i]=pytime.time()-time0\n",
    "        \n",
    "        #DirectSummation\n",
    "        time0=pytime.time()\n",
    "        F= GravInteraction(ms[:,np.newaxis],ms[np.newaxis,:], xs, xs)\n",
    "        F[np.diag(np.ones([Ns[i]])).astype('bool')]=0 # avoid Infinities on the diagonal\n",
    "        justSum=F @ np.ones([Ns[i]])\n",
    "        timesDirect[expId,i]=pytime.time()-time0\n",
    "        #print(np.linalg.norm(bhSum-justSum,2))"
   ]
  },
  {
   "cell_type": "code",
   "execution_count": 4,
   "metadata": {},
   "outputs": [
    {
     "name": "stderr",
     "output_type": "stream",
     "text": [
      "C:\\Users\\XuMuKPad\\Documents\\Skoltech\\fastpdeHW\\git\\ps1\\mybootstrap.py:26: RuntimeWarning: divide by zero encountered in true_divide\n",
      "  ts = (np.mean(resampled,axis=0)-m0)/np.std(resampled,axis=0)\n"
     ]
    }
   ],
   "source": [
    "timesDirectCI = np.array([ boots.BootstrapTTableCIMean(timesDirect[:,i],NSamples=5000) \\\n",
    "                 for i in np.arange(timesDirect.shape[1])])\n",
    "timesBHCI = np.array([ boots.BootstrapTTableCIMean(timesBH[:,i],NSamples=5000) \\\n",
    "                 for i in np.arange(timesBH.shape[1])])"
   ]
  },
  {
   "cell_type": "code",
   "execution_count": 7,
   "metadata": {},
   "outputs": [
    {
     "data": {
      "text/plain": [
       "[<matplotlib.lines.Line2D at 0x2a33df7bc88>]"
      ]
     },
     "execution_count": 7,
     "metadata": {},
     "output_type": "execute_result"
    },
    {
     "data": {
      "image/png": "[encoded data removed]",
      "text/plain": [
       "<matplotlib.figure.Figure at 0x2a33df7bb38>"
      ]
     },
     "metadata": {},
     "output_type": "display_data"
    }
   ],
   "source": [
    "#just draw something\n",
    "f,ax =plt.subplots( figsize=(9,6))\n",
    "\n",
    "ax.plot(np.log(Ns),np.log(np.mean(timesDirect,axis=0)))\n",
    "ax.plot(np.log(Ns),np.log(np.mean(timesBH,axis=0)))\n",
    "#ax.errorbar(Ns,np.mean(timesDirect,axis=0),yerr=timesDirectCI.T)\n",
    "#ax.errorbar(Ns,np.mean(timesBH,axis=0),yerr=timesBHCI.T)"
   ]
  },
  {
   "cell_type": "code",
   "execution_count": 28,
   "metadata": {},
   "outputs": [
    {
     "data": {
      "text/plain": [
       "[<matplotlib.lines.Line2D at 0x9ec13f7630>]"
      ]
     },
     "execution_count": 28,
     "metadata": {},
     "output_type": "execute_result"
    },
    {
     "data": {
      "image/png": "[encoded data removed]",
      "text/plain": [
       "<Figure size 432x288 with 1 Axes>"
      ]
     },
     "metadata": {
      "needs_background": "dark"
     },
     "output_type": "display_data"
    }
   ],
   "source": [
    "ys=Ns*np.log(Ns)\n",
    "\n",
    "f,ax = plt.subplots()\n",
    "\n",
    "ax.plot(np.log(Ns),np.log(ys))"
   ]
  },
  {
   "cell_type": "code",
   "execution_count": null,
   "metadata": {},
   "outputs": [],
   "source": []
  }
 ],
 "metadata": {
  "kernelspec": {
   "display_name": "Python 3",
   "language": "python",
   "name": "python3"
  },
  "language_info": {
   "codemirror_mode": {
    "name": "ipython",
    "version": 3
   },
   "file_extension": ".py",
   "mimetype": "text/x-python",
   "name": "python",
   "nbconvert_exporter": "python",
   "pygments_lexer": "ipython3",
   "version": "3.5.4"
  }
 },
 "nbformat": 4,
 "nbformat_minor": 2
}
