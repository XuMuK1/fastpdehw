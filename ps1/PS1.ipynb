{
 "cells": [
  {
   "cell_type": "markdown",
   "metadata": {},
   "source": [
    "# The $N$-body problem. Maximum: 80 pts + 25 bonus pts\n",
    "\n",
    "## Problem 0 (Problem statement) 5 pts\n",
    "\n",
    "Consider the $N$-body problem\n",
    "$$\n",
    "    V({\\bf y}_j) = \\sum_{i=1}^N G({\\bf x}_i, {\\bf y}_j) q_i, \\quad j=1,\\dots,N,\n",
    "$$\n",
    "where ${\\bf x}_i$ is the location of source charges and ${\\bf y}_j$ is the location of receivers where the potential $V$ is measured. \n",
    "For simplicity in this pset sources and receivers are the same points: ${\\bf x}_i = {\\bf y}_i$, $i=1,\\dots,N$.\n",
    "The naive summation yields $\\mathcal{O}(N^2)$ complexity, which is prohibitive if $N$ is large.\n",
    "This problem set is devoted to algorithms that break the $\\mathcal{O}(N^2)$.\n",
    "\n",
    "\n",
    "* (5 pts) Name algorithms that break $\\mathcal{O}(N^2)$ for $N$-body problem. Specify their complexities. Estimate how much memory and what time requires to estimate all $N$ potentials $V({\\bf y}_j)$ for $N=300$ billion particles with naive $\\mathcal{O}(N^2)$ summation and $\\mathcal{O}(N\\log N)$, $\\mathcal{O}(N)$ algorithms on a supercomputer\n",
    "(constants hidden in $\\mathcal{O}$ can be found in lectures).\n",
    "\n",
    "PUT SOME WORDS HERE!!!"
   ]
  },
  {
   "cell_type": "markdown",
   "metadata": {},
   "source": [
    "## Problem 1 (The Barnes-Hut algorithm and beyond) 35 pts + 25 bonus pts"
   ]
  },
  {
   "cell_type": "markdown",
   "metadata": {},
   "source": [
    "#### The Barnes-Hut\n",
    "\n",
    "The Barnes-Hut (BH) idea is quite simple. First, we separate our particles in a quad-tree structure of particle groups. If the group on some tree level is sufficiently far away from a certain particle, we can approximate its potential by using its center of mass. If it is not, we compute its influence recursively by using lower tree levels. The accuracy of the Barnes-Hut algorithm depends on the choise of parameter $\\theta = s / d$, where $s$ is the width of the region represented by the internal node, and $d$ is the distance between the body and the node's center-of-mass.\n",
    "\n",
    "* (10 pts) Propose an algorithm for the quadtree construction. Can you reach $\\mathcal{O}(N)$ memory for the storage? Propose a way to store the tree and write the program that computes the tree, given the location of the particles. What do you need to store in each node of the tree?\n",
    "\n",
    "### Solution\n",
    "\n",
    "We can implement a quad-tree for arbitrary dimension $d$. Create a class called TreeNode which contains node's mass, coordinate and size of bounding box. Put there also a list of children (there are not so many of them for quad-tree, no more than $2^d$), each child is set to be another TreeNode (if the node is a leaf, its children array is empty). \n",
    "\n",
    "Suppose there are $N=4^K, K \\in N$ particles. If the number of particles is not a power of $4$, then we claim that the tree for $4^{Ceil(\\text{log}_4N)}$ is not smaller than one constructed from $N$ particles, so we can round $N$ to closest(on the right) power of $4$ and obtain a valid upper bound. The total numer of nodes then is\n",
    "\n",
    "$$\n",
    "N+N/4+N/16+...+1 = N (1+ 1/4 +1/16+...+4^{-K}) \\leq \\frac{4}{3} N\n",
    "$$\n",
    "\n",
    "with use of geometric series. Hence, memory complexity is $O(N)$.\n",
    "\n",
    "* (20 pts) Implement Barnes-Hut algorithm. The program should consist of three parts:\n",
    "    1.  Tree construction given the location of the particles and geometric constant $\\theta$  \n",
    "    2.  Filling the information in the tree (computing the charges and geometric centers)\n",
    "    3. Computing the product\n",
    "\n",
    "The code is very direct and follows the instruction given here. For clarity I implemented quadtrees and their construction in python module with similar name and Barnes-Hut summation routines in module simplebh. The summation algorithm takes coordinates $x$, masses $m$, interaction function $interFun$ and separability parameter $\\theta$ which is called $farParameter$ in my code. The simple example is given below.\n",
    "\n",
    "* (5 pts) Compare the results computed by direct evaluation and Barnes-Hut algorithm. Make sure that you got linear complexity. Study the dependance of accuracy and computational cost on the geometric parameter $\\theta$\n",
    "\n",
    "\n",
    "#### Simplified FMM (Bonus task)\n",
    "\n",
    "In order to break $\\log$ term in $\\mathcal{O}(N \\log N)$ for the Barnes-Hut algorithm a second tree can be used. \n",
    "This almost leads us to the FMM algorithm with only one exception: only one term in the multipole expansion is used.\n",
    "\n",
    "* (20 pts) Now that you are a given a tree from the previous task, code the Barnes-Hut with two trees. The key differences are:\n",
    "    1. You need to create the interaction list\n",
    "    2. You also need to build M2L and L2L operators (in standard BH only M2M operator is used)\n",
    " \n",
    " \n",
    "* (5 pts) Compare performance and accuracy of the standard and 2-tree BH. Which one is faster?"
   ]
  },
  {
   "cell_type": "code",
   "execution_count": null,
   "metadata": {
    "collapsed": true
   },
   "outputs": [],
   "source": []
  },
  {
   "cell_type": "markdown",
   "metadata": {
    "collapsed": true
   },
   "source": [
    "## Problem 2 (40 pts)"
   ]
  },
  {
   "cell_type": "markdown",
   "metadata": {},
   "source": [
    "Consider an ideally conducting sphere $\\Omega\\subset\\mathbb{R}^3$, which is attached to a $1$ V battery.\n",
    "\n",
    "- (5 pts) Write first kind Fredholm integral equation on $\\partial \\Omega$\n",
    "\n",
    "- (20 pts) Using [BEM++](https://bempp.com/) write a Python program solves this integral equation\n",
    "\n",
    "- (10 pts) Write a function that evaluates potenital from the obtained solution at the given point of $\\mathbb{R}^3$\n",
    "\n",
    "- (5 pts) Plot the depenedce of the potential on a half-line from the center of the sphere. Compare it with the analytical solution by plotting obtained solution for different number of grid points and the analytic solution on one plot"
   ]
  },
  {
   "cell_type": "code",
   "execution_count": null,
   "metadata": {
    "collapsed": true
   },
   "outputs": [],
   "source": [
    "#BEMPP code here!"
   ]
  }
 ],
 "metadata": {
  "anaconda-cloud": {},
  "kernelspec": {
   "display_name": "Python 3",
   "language": "python",
   "name": "python3"
  },
  "language_info": {
   "codemirror_mode": {
    "name": "ipython",
    "version": 3
   },
   "file_extension": ".py",
   "mimetype": "text/x-python",
   "name": "python",
   "nbconvert_exporter": "python",
   "pygments_lexer": "ipython3",
   "version": "3.5.4"
  }
 },
 "nbformat": 4,
 "nbformat_minor": 1
}
